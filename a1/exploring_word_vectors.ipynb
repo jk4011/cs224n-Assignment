{
 "cells": [
  {
   "cell_type": "markdown",
   "metadata": {},
   "source": [
    "# CS224N Assignment 1: Exploring Word Vectors (25 Points)\n",
    "### <font color='blue'> Due 3:15pm, Tue Jan 11 </font>\n",
    "\n",
    "Welcome to CS224N! \n",
    "\n",
    "Before you start, make sure you read the README.txt in the same directory as this notebook for important setup information. A lot of code is provided in this notebook, and we highly encourage you to read and understand it as part of the learning :)\n",
    "\n",
    "If you aren't super familiar with Python, Numpy, or Matplotlib, we recommend you check out the review session on Friday. The session will be recorded and the material will be made available on our [website](http://web.stanford.edu/class/cs224n/index.html#schedule). The CS231N Python/Numpy [tutorial](https://cs231n.github.io/python-numpy-tutorial/) is also a great resource.\n",
    "\n",
    "\n",
    "**Assignment Notes:** Please make sure to save the notebook as you go along. Submission Instructions are located at the bottom of the notebook."
   ]
  },
  {
   "cell_type": "code",
<<<<<<< HEAD
   "execution_count": 1,
=======
   "execution_count": null,
   "outputs": [],
   "source": [],
   "metadata": {
    "collapsed": false,
    "pycharm": {
     "name": "#%%\n"
    }
   }
  },
  {
   "cell_type": "code",
   "execution_count": null,
>>>>>>> 5a3fc7a (.)
   "metadata": {},
   "outputs": [
    {
     "name": "stderr",
     "output_type": "stream",
     "text": [
      "C:\\ProgramData\\Anaconda3\\envs\\cs224n\\lib\\site-packages\\gensim\\similarities\\__init__.py:15: UserWarning: The gensim.similarities.levenshtein submodule is disabled, because the optional Levenshtein package <https://pypi.org/project/python-Levenshtein/> is unavailable. Install Levenhstein (e.g. `pip install python-Levenshtein`) to suppress this warning.\n",
      "  warnings.warn(msg)\n",
      "[nltk_data] Downloading package reuters to\n",
      "[nltk_data]     C:\\Users\\jh\\AppData\\Roaming\\nltk_data...\n"
     ]
    }
   ],
   "source": [
    "# All Import Statements Defined Here\n",
    "# Note: Do not add to this list.\n",
    "# ----------------\n",
    "\n",
    "import sys\n",
    "assert sys.version_info[0]==3\n",
    "assert sys.version_info[1] >= 5\n",
    "\n",
    "from platform import python_version\n",
    "assert int(python_version().split(\".\")[1]) >= 5, \"Please upgrade your Python version following the instructions in \\\n",
    "    the README.txt file found in the same directory as this notebook. Your Python version is \" + python_version()\n",
    "\n",
    "from ge\n",
    "nsim.models import KeyedVectors\n",
    "from gensim.test.utils import datapath\n",
    "import pprint\n",
    "import matplotlib.pyplot as plt\n",
    "plt.rcParams['figure.figsize'] = [10, 5]\n",
    "import nltk\n",
    "nltk.download('reuters') #to specify download location, optionally add the argument: download_dir='/specify/desired/path/'\n",
    "from nltk.corpus import reuters\n",
    "import numpy as np\n",
    "import random\n",
    "import scipy as sp\n",
    "from sklearn.decomposition import TruncatedSVD\n",
    "from sklearn.decomposition import PCA\n",
    "\n",
    "START_TOKEN = '<START>'\n",
    "END_TOKEN = '<END>'\n",
    "\n",
    "np.random.seed(0)\n",
    "random.seed(0)\n",
    "# ----------------"
   ]
  },
  {
   "cell_type": "markdown",
   "metadata": {},
   "source": [
    "## Word Vectors\n",
    "\n",
    "Word Vectors are often used as a fundamental component for downstream NLP tasks, e.g. question answering, text generation, translation, etc., so it is important to build some intuitions as to their strengths and weaknesses. Here, you will explore two types of word vectors: those derived from *co-occurrence matrices*, and those derived via *GloVe*. \n",
    "\n",
    "**Note on Terminology:** The terms \"word vectors\" and \"word embeddings\" are often used interchangeably. The term \"embedding\" refers to the fact that we are encoding aspects of a word's meaning in a lower dimensional space. As [Wikipedia](https://en.wikipedia.org/wiki/Word_embedding) states, \"*conceptually it involves a mathematical embedding from a space with one dimension per word to a continuous vector space with a much lower dimension*\"."
   ]
  },
  {
   "cell_type": "markdown",
   "metadata": {},
   "source": [
    "## Part 1: Count-Based Word Vectors (10 points)\n",
    "\n",
    "Most word vector models start from the following idea:\n",
    "\n",
    "*You shall know a word by the company it keeps ([Firth, J. R. 1957:11](https://en.wikipedia.org/wiki/John_Rupert_Firth))*\n",
    "\n",
    "Many word vector implementations are driven by the idea that similar words, i.e., (near) synonyms, will be used in similar contexts. As a result, similar words will often be spoken or written along with a shared subset of words, i.e., contexts. By examining these contexts, we can try to develop embeddings for our words. With this intuition in mind, many \"old school\" approaches to constructing word vectors relied on word counts. Here we elaborate upon one of those strategies, *co-occurrence matrices* (for more information, see [here](https://web.stanford.edu/~jurafsky/slp3/6.pdf) or [here](https://medium.com/data-science-group-iitr/word-embedding-2d05d270b285))."
   ]
  },
  {
   "cell_type": "markdown",
   "metadata": {},
   "source": [
    "### Co-Occurrence\n",
    "\n",
    "A co-occurrence matrix counts how often things co-occur in some environment. Given some word $w_i$ occurring in the document, we consider the *context window* surrounding $w_i$. Supposing our fixed window size is $n$, then this is the $n$ preceding and $n$ subsequent words in that document, i.e. words $w_{i-n} \\dots w_{i-1}$ and $w_{i+1} \\dots w_{i+n}$. We build a *co-occurrence matrix* $M$, which is a symmetric word-by-word matrix in which $M_{ij}$ is the number of times $w_j$ appears inside $w_i$'s window among all documents.\n",
    "\n",
    "**Example: Co-Occurrence with Fixed Window of n=1**:\n",
    "\n",
    "Document 1: \"all that glitters is not gold\"\n",
    "\n",
    "Document 2: \"all is well that ends well\"\n",
    "\n",
    "\n",
    "|     *    | `<START>` | all | that | glitters | is   | not  | gold  | well | ends | `<END>` |\n",
    "|----------|-------|-----|------|----------|------|------|-------|------|------|-----|\n",
    "| `<START>`    | 0     | 2   | 0    | 0        | 0    | 0    | 0     | 0    | 0    | 0   |\n",
    "| all      | 2     | 0   | 1    | 0        | 1    | 0    | 0     | 0    | 0    | 0   |\n",
    "| that     | 0     | 1   | 0    | 1        | 0    | 0    | 0     | 1    | 1    | 0   |\n",
    "| glitters | 0     | 0   | 1    | 0        | 1    | 0    | 0     | 0    | 0    | 0   |\n",
    "| is       | 0     | 1   | 0    | 1        | 0    | 1    | 0     | 1    | 0    | 0   |\n",
    "| not      | 0     | 0   | 0    | 0        | 1    | 0    | 1     | 0    | 0    | 0   |\n",
    "| gold     | 0     | 0   | 0    | 0        | 0    | 1    | 0     | 0    | 0    | 1   |\n",
    "| well     | 0     | 0   | 1    | 0        | 1    | 0    | 0     | 0    | 1    | 1   |\n",
    "| ends     | 0     | 0   | 1    | 0        | 0    | 0    | 0     | 1    | 0    | 0   |\n",
    "| `<END>`      | 0     | 0   | 0    | 0        | 0    | 0    | 1     | 1    | 0    | 0   |\n",
    "\n",
    "**Note:** In NLP, we often add `<START>` and `<END>` tokens to represent the beginning and end of sentences, paragraphs or documents. In this case we imagine `<START>` and `<END>` tokens encapsulating each document, e.g., \"`<START>` All that glitters is not gold `<END>`\", and include these tokens in our co-occurrence counts.\n",
    "\n",
    "The rows (or columns) of this matrix provide one type of word vectors (those based on word-word co-occurrence), but the vectors will be large in general (linear in the number of distinct words in a corpus). Thus, our next step is to run *dimensionality reduction*. In particular, we will run *SVD (Singular Value Decomposition)*, which is a kind of generalized *PCA (Principal Components Analysis)* to select the top $k$ principal components. Here's a visualization of dimensionality reduction with SVD. In this picture our co-occurrence matrix is $A$ with $n$ rows corresponding to $n$ words. We obtain a full matrix decomposition, with the singular values ordered in the diagonal $S$ matrix, and our new, shorter length-$k$ word vectors in $U_k$.\n",
    "\n",
    "![Picture of an SVD](imgs/svd.png \"SVD\")\n",
    "\n",
    "This reduced-dimensionality co-occurrence representation preserves semantic relationships between words, e.g. *doctor* and *hospital* will be closer than *doctor* and *dog*. \n",
    "\n",
    "**Notes:** If you can barely remember what an eigenvalue is, here's [a slow, friendly introduction to SVD](https://davetang.org/file/Singular_Value_Decomposition_Tutorial.pdf). If you want to learn more thoroughly about PCA or SVD, feel free to check out lectures [7](https://web.stanford.edu/class/cs168/l/l7.pdf), [8](http://theory.stanford.edu/~tim/s15/l/l8.pdf), and [9](https://web.stanford.edu/class/cs168/l/l9.pdf) of CS168. These course notes provide a great high-level treatment of these general purpose algorithms. Though, for the purpose of this class, you only need to know how to extract the k-dimensional embeddings by utilizing pre-programmed implementations of these algorithms from the numpy, scipy, or sklearn python packages. In practice, it is challenging to apply full SVD to large corpora because of the memory needed to perform PCA or SVD. However, if you only want the top $k$ vector components for relatively small $k$ — known as [Truncated SVD](https://en.wikipedia.org/wiki/Singular_value_decomposition#Truncated_SVD) — then there are reasonably scalable techniques to compute those iteratively."
   ]
  },
  {
   "cell_type": "markdown",
   "metadata": {},
   "source": [
    "### Plotting Co-Occurrence Word Embeddings\n",
    "\n",
    "Here, we will be using the Reuters (business and financial news) corpus. If you haven't run the import cell at the top of this page, please run it now (click it and press SHIFT-RETURN). The corpus consists of 10,788 news documents totaling 1.3 million words. These documents span 90 categories and are split into train and test. For more details, please see https://www.nltk.org/book/ch02.html. We provide a `read_corpus` function below that pulls out only articles from the \"grain\" (i.e. news articles about corn, wheat, etc.) category. The function also adds `<START>` and `<END>` tokens to each of the documents, and lowercases words. You do **not** have to perform any other kind of pre-processing."
   ]
  },
  {
   "cell_type": "code",
   "execution_count": 2,
   "metadata": {},
   "outputs": [],
   "source": [
    "def read_corpus(category=\"grain\"):\n",
    "    \"\"\" Read files from the specified Reuter's category.\n",
    "        Params:\n",
    "            category (string): category name\n",
    "        Return:\n",
    "            list of lists, with words from each of the processed files\n",
    "    \"\"\"\n",
    "    files = reuters.fileids(category)\n",
    "    return [[START_TOKEN] + [w.lower() for w in list(reuters.words(f))] + [END_TOKEN] for f in files]\n"
   ]
  },
  {
   "cell_type": "markdown",
   "metadata": {},
   "source": [
    "Let's have a look what these documents are like…."
   ]
  },
  {
   "cell_type": "code",
   "execution_count": 7,
   "metadata": {},
   "outputs": [
    {
     "name": "stdout",
     "output_type": "stream",
     "text": [
      "[['<START>', 'china', 'daily', 'says', 'vermin', 'eat', '7', '-', '12', 'pct', 'grain', 'stocks',\n",
      "  'a', 'survey', 'of', '19', 'provinces', 'and', 'seven', 'cities', 'showed', 'vermin', 'consume',\n",
      "  'between', 'seven', 'and', '12', 'pct', 'of', 'china', \"'\", 's', 'grain', 'stocks', ',', 'the',\n",
      "  'china', 'daily', 'said', '.', 'it', 'also', 'said', 'that', 'each', 'year', '1', '.', '575',\n",
      "  'mln', 'tonnes', ',', 'or', '25', 'pct', ',', 'of', 'china', \"'\", 's', 'fruit', 'output', 'are',\n",
      "  'left', 'to', 'rot', ',', 'and', '2', '.', '1', 'mln', 'tonnes', ',', 'or', 'up', 'to', '30',\n",
      "  'pct', ',', 'of', 'its', 'vegetables', '.', 'the', 'paper', 'blamed', 'the', 'waste', 'on',\n",
      "  'inadequate', 'storage', 'and', 'bad', 'preservation', 'methods', '.', 'it', 'said', 'the',\n",
      "  'government', 'had', 'launched', 'a', 'national', 'programme', 'to', 'reduce', 'waste', ',',\n",
      "  'calling', 'for', 'improved', 'technology', 'in', 'storage', 'and', 'preservation', ',', 'and',\n",
      "  'greater', 'production', 'of', 'additives', '.', 'the', 'paper', 'gave', 'no', 'further',\n",
      "  'details', '.', '<END>'],\n",
      " ['<START>', 'thai', 'trade', 'deficit', 'widens', 'in', 'first', 'quarter', 'thailand', \"'\", 's',\n",
      "  'trade', 'deficit', 'widened', 'to', '4', '.', '5', 'billion', 'baht', 'in', 'the', 'first',\n",
      "  'quarter', 'of', '1987', 'from', '2', '.', '1', 'billion', 'a', 'year', 'ago', ',', 'the',\n",
      "  'business', 'economics', 'department', 'said', '.', 'it', 'said', 'janunary', '/', 'march',\n",
      "  'imports', 'rose', 'to', '65', '.', '1', 'billion', 'baht', 'from', '58', '.', '7', 'billion',\n",
      "  '.', 'thailand', \"'\", 's', 'improved', 'business', 'climate', 'this', 'year', 'resulted', 'in',\n",
      "  'a', '27', 'pct', 'increase', 'in', 'imports', 'of', 'raw', 'materials', 'and', 'semi', '-',\n",
      "  'finished', 'products', '.', 'the', 'country', \"'\", 's', 'oil', 'import', 'bill', ',', 'however',\n",
      "  ',', 'fell', '23', 'pct', 'in', 'the', 'first', 'quarter', 'due', 'to', 'lower', 'oil', 'prices',\n",
      "  '.', 'the', 'department', 'said', 'first', 'quarter', 'exports', 'expanded', 'to', '60', '.', '6',\n",
      "  'billion', 'baht', 'from', '56', '.', '6', 'billion', '.', 'export', 'growth', 'was', 'smaller',\n",
      "  'than', 'expected', 'due', 'to', 'lower', 'earnings', 'from', 'many', 'key', 'commodities',\n",
      "  'including', 'rice', 'whose', 'earnings', 'declined', '18', 'pct', ',', 'maize', '66', 'pct', ',',\n",
      "  'sugar', '45', 'pct', ',', 'tin', '26', 'pct', 'and', 'canned', 'pineapples', 'seven', 'pct', '.',\n",
      "  'products', 'registering', 'high', 'export', 'growth', 'were', 'jewellery', 'up', '64', 'pct',\n",
      "  ',', 'clothing', '57', 'pct', 'and', 'rubber', '35', 'pct', '.', '<END>'],\n",
      " ['<START>', 'sri', 'lanka', 'gets', 'usda', 'approval', 'for', 'wheat', 'price', 'food',\n",
      "  'department', 'officials', 'said', 'the', 'u', '.', 's', '.', 'department', 'of', 'agriculture',\n",
      "  'approved', 'the', 'continental', 'grain', 'co', 'sale', 'of', '52', ',', '500', 'tonnes', 'of',\n",
      "  'soft', 'wheat', 'at', '89', 'u', '.', 's', '.', 'dlrs', 'a', 'tonne', 'c', 'and', 'f', 'from',\n",
      "  'pacific', 'northwest', 'to', 'colombo', '.', 'they', 'said', 'the', 'shipment', 'was', 'for',\n",
      "  'april', '8', 'to', '20', 'delivery', '.', '<END>']]\n"
     ]
    }
   ],
   "source": [
    "reuters_corpus = read_corpus()\n",
    "pprint.pprint(reuters_corpus[:3], compact=True, width=100)"
   ]
  },
  {
   "cell_type": "markdown",
   "metadata": {},
   "source": [
    "### Question 1.1: Implement `distinct_words` [code] (2 points)\n",
    "\n",
    "Write a method to work out the distinct words (word types) that occur in the corpus. You can do this with `for` loops, but it's more efficient to do it with Python list comprehensions. In particular, [this](https://coderwall.com/p/rcmaea/flatten-a-list-of-lists-in-one-line-in-python) may be useful to flatten a list of lists. If you're not familiar with Python list comprehensions in general, here's [more information](https://python-3-patterns-idioms-test.readthedocs.io/en/latest/Comprehensions.html).\n",
    "\n",
    "Your returned `corpus_words` should be sorted. You can use python's `sorted` function for this.\n",
    "\n",
    "You may find it useful to use [Python sets](https://www.w3schools.com/python/python_sets.asp) to remove duplicate words."
   ]
  },
  {
   "cell_type": "code",
   "execution_count": 21,
   "metadata": {},
   "outputs": [],
   "source": [
    "def distinct_words(corpus):\n",
    "    \"\"\" Determine a list of distinct words for the corpus.\n",
    "        Params:\n",
    "            corpus (list of list of strings): corpus of documents\n",
    "        Return:\n",
    "            corpus_words (list of strings): sorted list of distinct words across the corpus\n",
    "            n_corpus_words (integer): number of distinct words across the corpus\n",
    "    \"\"\"\n",
    "    corpus_words = []\n",
    "    n_corpus_words = -1\n",
    "    \n",
    "    # ------------------\n",
    "    # Write your implementation here.\n",
    "    flattened_corpus = {word for doc in corpus for word in doc}\n",
    "    corpus_words = sorted(flattened_corpus)\n",
    "    n_corpus_words = len(corpus_words)\n",
    "\n",
    "    # ------------------\n",
    "\n",
    "    return corpus_words, n_corpus_words"
   ]
  },
  {
   "cell_type": "code",
   "execution_count": 22,
   "metadata": {},
   "outputs": [
    {
     "name": "stdout",
     "output_type": "stream",
     "text": [
      "--------------------------------------------------------------------------------\n",
      "Passed All Tests!\n",
      "--------------------------------------------------------------------------------\n"
     ]
    }
   ],
   "source": [
    "# ---------------------\n",
    "# Run this sanity check\n",
    "# Note that this not an exhaustive check for correctness.\n",
    "# ---------------------\n",
    "\n",
    "# Define toy corpus\n",
    "test_corpus = [\"{} All that glitters isn't gold {}\".format(START_TOKEN, END_TOKEN).split(\" \"), \"{} All's well that ends well {}\".format(START_TOKEN, END_TOKEN).split(\" \")]\n",
    "test_corpus_words, num_corpus_words = distinct_words(test_corpus)\n",
    "\n",
    "# Correct answers\n",
    "ans_test_corpus_words = sorted([START_TOKEN, \"All\", \"ends\", \"that\", \"gold\", \"All's\", \"glitters\", \"isn't\", \"well\", END_TOKEN])\n",
    "ans_num_corpus_words = len(ans_test_corpus_words)\n",
    "\n",
    "# Test correct number of words\n",
    "assert(num_corpus_words == ans_num_corpus_words), \"Incorrect number of distinct words. Correct: {}. Yours: {}\".format(ans_num_corpus_words, num_corpus_words)\n",
    "\n",
    "# Test correct words\n",
    "assert (test_corpus_words == ans_test_corpus_words), \"Incorrect corpus_words.\\nCorrect: {}\\nYours:   {}\".format(str(ans_test_corpus_words), str(test_corpus_words))\n",
    "\n",
    "# Print Success\n",
    "print (\"-\" * 80)\n",
    "print(\"Passed All Tests!\")\n",
    "print (\"-\" * 80)"
   ]
  },
  {
   "cell_type": "markdown",
   "metadata": {},
   "source": [
    "### Question 1.2: Implement `compute_co_occurrence_matrix` [code] (3 points)\n",
    "\n",
    "Write a method that constructs a co-occurrence matrix for a certain window-size $n$ (with a default of 4), considering words $n$ before and $n$ after the word in the center of the window. Here, we start to use `numpy (np)` to represent vectors, matrices, and tensors. If you're not familiar with NumPy, there's a NumPy tutorial in the second half of this cs231n [Python NumPy tutorial](http://cs231n.github.io/python-numpy-tutorial/).\n"
   ]
  },
  {
   "cell_type": "code",
   "execution_count": 25,
   "metadata": {},
   "outputs": [],
   "source": [
    "def compute_co_occurrence_matrix(corpus, window_size=4):\n",
    "    \"\"\" Compute co-occurrence matrix for the given corpus and window_size (default of 4).\n",
    "    \n",
    "        Note: Each word in a document should be at the center of a window. Words near edges will have a smaller\n",
    "              number of co-occurring words.\n",
    "              \n",
    "              For example, if we take the document \"<START> All that glitters is not gold <END>\" with window size of 4,\n",
    "              \"All\" will co-occur with \"<START>\", \"that\", \"glitters\", \"is\", and \"not\".\n",
    "    \n",
    "        Params:\n",
    "            corpus (list of list of strings): corpus of documents\n",
    "            window_size (int): size of context window\n",
    "        Return:\n",
    "            M (a symmetric numpy matrix of shape (number of unique words in the corpus , number of unique words in the corpus)): \n",
    "                Co-occurence matrix of word counts. \n",
    "                The ordering of the words in the rows/columns should be the same as the ordering of the words given by the distinct_words function.\n",
    "            word2ind (dict): dictionary that maps word to index (i.e. row/column number) for matrix M.\n",
    "    \"\"\"\n",
    "    words, n_words = distinct_words(corpus)\n",
    "    M = None\n",
    "    word2ind = {}\n",
    "    \n",
    "    # ------------------\n",
    "    # Write your implementation here.\n",
    "    M = np.zeros((n_words, n_words))\n",
    "    \n",
    "    word2ind = {word: i for i, word in enumerate(words)}\n",
    "\n",
    "    for doc in corpus:\n",
    "        for i in range(len(doc)):\n",
    "            idx_i = word2ind[doc[i]]\n",
    "            for j in range(i + 1, min(i + window_size + 1, len(doc))):\n",
    "                idx_j = word2ind[doc[j]]\n",
    "                M[idx_i][idx_j] += 1\n",
    "                M[idx_j][idx_i] += 1\n",
    "    \n",
    "\n",
    "    # ------------------\n",
    "\n",
    "    return M, word2ind"
   ]
  },
  {
   "cell_type": "code",
   "execution_count": 26,
   "metadata": {},
   "outputs": [
    {
     "name": "stdout",
     "output_type": "stream",
     "text": [
      "--------------------------------------------------------------------------------\n",
      "Passed All Tests!\n",
      "--------------------------------------------------------------------------------\n"
     ]
    }
   ],
   "source": [
    "# ---------------------\n",
    "# Run this sanity check\n",
    "# Note that this is not an exhaustive check for correctness.\n",
    "# ---------------------\n",
    "\n",
    "# Define toy corpus and get student's co-occurrence matrix\n",
    "test_corpus = [\"{} All that glitters isn't gold {}\".format(START_TOKEN, END_TOKEN).split(\" \"), \"{} All's well that ends well {}\".format(START_TOKEN, END_TOKEN).split(\" \")]\n",
    "M_test, word2ind_test = compute_co_occurrence_matrix(test_corpus, window_size=1)\n",
    "\n",
    "# Correct M and word2ind\n",
    "M_test_ans = np.array( \n",
    "    [[0., 0., 0., 0., 0., 0., 1., 0., 0., 1.,],\n",
    "     [0., 0., 1., 1., 0., 0., 0., 0., 0., 0.,],\n",
    "     [0., 1., 0., 0., 0., 0., 0., 0., 1., 0.,],\n",
    "     [0., 1., 0., 0., 0., 0., 0., 0., 0., 1.,],\n",
    "     [0., 0., 0., 0., 0., 0., 0., 0., 1., 1.,],\n",
    "     [0., 0., 0., 0., 0., 0., 0., 1., 1., 0.,],\n",
    "     [1., 0., 0., 0., 0., 0., 0., 1., 0., 0.,],\n",
    "     [0., 0., 0., 0., 0., 1., 1., 0., 0., 0.,],\n",
    "     [0., 0., 1., 0., 1., 1., 0., 0., 0., 1.,],\n",
    "     [1., 0., 0., 1., 1., 0., 0., 0., 1., 0.,]]\n",
    ")\n",
    "ans_test_corpus_words = sorted([START_TOKEN, \"All\", \"ends\", \"that\", \"gold\", \"All's\", \"glitters\", \"isn't\", \"well\", END_TOKEN])\n",
    "word2ind_ans = dict(zip(ans_test_corpus_words, range(len(ans_test_corpus_words))))\n",
    "\n",
    "# Test correct word2ind\n",
    "assert (word2ind_ans == word2ind_test), \"Your word2ind is incorrect:\\nCorrect: {}\\nYours: {}\".format(word2ind_ans, word2ind_test)\n",
    "\n",
    "# Test correct M shape\n",
    "assert (M_test.shape == M_test_ans.shape), \"M matrix has incorrect shape.\\nCorrect: {}\\nYours: {}\".format(M_test.shape, M_test_ans.shape)\n",
    "\n",
    "# Test correct M values\n",
    "for w1 in word2ind_ans.keys():\n",
    "    idx1 = word2ind_ans[w1]\n",
    "    for w2 in word2ind_ans.keys():\n",
    "        idx2 = word2ind_ans[w2]\n",
    "        student = M_test[idx1, idx2]\n",
    "        correct = M_test_ans[idx1, idx2]\n",
    "        if student != correct:\n",
    "            print(\"Correct M:\")\n",
    "            print(M_test_ans)\n",
    "            print(\"Your M: \")\n",
    "            print(M_test)\n",
    "            raise AssertionError(\"Incorrect count at index ({}, {})=({}, {}) in matrix M. Yours has {} but should have {}.\".format(idx1, idx2, w1, w2, student, correct))\n",
    "\n",
    "# Print Success\n",
    "print (\"-\" * 80)\n",
    "print(\"Passed All Tests!\")\n",
    "print (\"-\" * 80)"
   ]
  },
  {
   "cell_type": "markdown",
   "metadata": {},
   "source": [
    "### Question 1.3: Implement `reduce_to_k_dim` [code] (1 point)\n",
    "\n",
    "Construct a method that performs dimensionality reduction on the matrix to produce k-dimensional embeddings. Use SVD to take the top k components and produce a new matrix of k-dimensional embeddings. \n",
    "\n",
    "**Note:** All of numpy, scipy, and scikit-learn (`sklearn`) provide *some* implementation of SVD, but only scipy and sklearn provide an implementation of Truncated SVD, and only sklearn provides an efficient randomized algorithm for calculating large-scale Truncated SVD. So please use [sklearn.decomposition.TruncatedSVD](https://scikit-learn.org/stable/modules/generated/sklearn.decomposition.TruncatedSVD.html)."
   ]
  },
  {
   "cell_type": "code",
   "execution_count": 27,
   "metadata": {},
   "outputs": [],
   "source": [
    "def reduce_to_k_dim(M, k=2):\n",
    "    \"\"\" Reduce a co-occurence count matrix of dimensionality (num_corpus_words, num_corpus_words)\n",
    "        to a matrix of dimensionality (num_corpus_words, k) using the following SVD function from Scikit-Learn:\n",
    "            - http://scikit-learn.org/stable/modules/generated/sklearn.decomposition.TruncatedSVD.html\n",
    "    \n",
    "        Params:\n",
    "            M (numpy matrix of shape (number of unique words in the corpus , number of unique words in the corpus)): co-occurence matrix of word counts\n",
    "            k (int): embedding size of each word after dimension reduction\n",
    "        Return:\n",
    "            M_reduced (numpy matrix of shape (number of corpus words, k)): matrix of k-dimensioal word embeddings.\n",
    "                    In terms of the SVD from math class, this actually returns U * S\n",
    "    \"\"\"    \n",
    "    n_iters = 10     # Use this parameter in your call to `TruncatedSVD`\n",
    "    M_reduced = None\n",
    "    print(\"Running Truncated SVD over %i words...\" % (M.shape[0]))\n",
    "    \n",
    "    # ------------------\n",
    "    # Write your implementation here.\n",
    "    svd = TruncatedSVD(n_components=k, n_iter=n_iters)\n",
    "    M_reduced = svd.fit_transform(M)\n",
    "    \n",
    "\n",
    "    # ------------------\n",
    "\n",
    "    print(\"Done.\")\n",
    "    return M_reduced"
   ]
  },
  {
   "cell_type": "code",
   "execution_count": 28,
   "metadata": {},
   "outputs": [
    {
     "name": "stdout",
     "output_type": "stream",
     "text": [
      "Running Truncated SVD over 10 words...\n",
      "Done.\n",
      "--------------------------------------------------------------------------------\n",
      "Passed All Tests!\n",
      "--------------------------------------------------------------------------------\n"
     ]
    }
   ],
   "source": [
    "# ---------------------\n",
    "# Run this sanity check\n",
    "# Note that this is not an exhaustive check for correctness \n",
    "# In fact we only check that your M_reduced has the right dimensions.\n",
    "# ---------------------\n",
    "\n",
    "# Define toy corpus and run student code\n",
    "test_corpus = [\"{} All that glitters isn't gold {}\".format(START_TOKEN, END_TOKEN).split(\" \"), \"{} All's well that ends well {}\".format(START_TOKEN, END_TOKEN).split(\" \")]\n",
    "M_test, word2ind_test = compute_co_occurrence_matrix(test_corpus, window_size=1)\n",
    "M_test_reduced = reduce_to_k_dim(M_test, k=2)\n",
    "\n",
    "# Test proper dimensions\n",
    "assert (M_test_reduced.shape[0] == 10), \"M_reduced has {} rows; should have {}\".format(M_test_reduced.shape[0], 10)\n",
    "assert (M_test_reduced.shape[1] == 2), \"M_reduced has {} columns; should have {}\".format(M_test_reduced.shape[1], 2)\n",
    "\n",
    "# Print Success\n",
    "print (\"-\" * 80)\n",
    "print(\"Passed All Tests!\")\n",
    "print (\"-\" * 80)"
   ]
  },
  {
   "cell_type": "markdown",
   "metadata": {},
   "source": [
    "### Question 1.4: Implement `plot_embeddings` [code] (1 point)\n",
    "\n",
    "Here you will write a function to plot a set of 2D vectors in 2D space. For graphs, we will use Matplotlib (`plt`).\n",
    "\n",
    "For this example, you may find it useful to adapt [this code](http://web.archive.org/web/20190924160434/https://www.pythonmembers.club/2018/05/08/matplotlib-scatter-plot-annotate-set-text-at-label-each-point/). In the future, a good way to make a plot is to look at [the Matplotlib gallery](https://matplotlib.org/gallery/index.html), find a plot that looks somewhat like what you want, and adapt the code they give."
   ]
  },
  {
   "cell_type": "code",
   "execution_count": 34,
   "metadata": {},
   "outputs": [],
   "source": [
    "def plot_embeddings(M_reduced, word2ind, words):\n",
    "    \"\"\" Plot in a scatterplot the embeddings of the words specified in the list \"words\".\n",
    "        NOTE: do not plot all the words listed in M_reduced / word2ind.\n",
    "        Include a label next to each point.\n",
    "        \n",
    "        Params:\n",
    "            M_reduced (numpy matrix of shape (number of unique words in the corpus , 2)): matrix of 2-dimensioal word embeddings\n",
    "            word2ind (dict): dictionary that maps word to indices for matrix M\n",
    "            words (list of strings): words whose embeddings we want to visualize\n",
    "    \"\"\"\n",
    "\n",
    "    # ------------------\n",
    "    # Write your implementation here.\n",
    "    fig, ax = plt.subplots()\n",
    "    selected_M = M_reduced[[word2ind[word] for word in words], :]\n",
    "    ax.scatter(selected_M[:, 0], selected_M[:, 1], alpha=1)\n",
    "\n",
    "    for i, word in enumerate(words):\n",
    "        ax.annotate(word, selected_M[i])\n",
    "    plt.show()\n",
    "    \n",
    "    \n",
    "\n",
    "    # ------------------"
   ]
  },
  {
   "cell_type": "code",
   "execution_count": 35,
   "metadata": {},
   "outputs": [
    {
     "name": "stdout",
     "output_type": "stream",
     "text": [
      "--------------------------------------------------------------------------------\n",
      "Outputted Plot:\n"
     ]
    },
    {
     "data": {
      "image/png": "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\n",
      "text/plain": [
       "<Figure size 720x360 with 1 Axes>"
      ]
     },
     "metadata": {
      "needs_background": "light"
     },
     "output_type": "display_data"
    },
    {
     "name": "stdout",
     "output_type": "stream",
     "text": [
      "--------------------------------------------------------------------------------\n"
     ]
    }
   ],
   "source": [
    "# ---------------------\n",
    "# Run this sanity check\n",
    "# Note that this is not an exhaustive check for correctness.\n",
    "# The plot produced should look like the \"test solution plot\" depicted below. \n",
    "# ---------------------\n",
    "\n",
    "print (\"-\" * 80)\n",
    "print (\"Outputted Plot:\")\n",
    "\n",
    "M_reduced_plot_test = np.array([[1, 1], [-1, -1], [1, -1], [-1, 1], [0, 0]])\n",
    "word2ind_plot_test = {'test1': 0, 'test2': 1, 'test3': 2, 'test4': 3, 'test5': 4}\n",
    "words = ['test1', 'test2', 'test3', 'test4', 'test5']\n",
    "plot_embeddings(M_reduced_plot_test, word2ind_plot_test, words)\n",
    "\n",
    "print (\"-\" * 80)"
   ]
  },
  {
   "cell_type": "markdown",
   "metadata": {},
   "source": [
    "<font color=red>**Test Plot Solution**</font>\n",
    "<br>\n",
    "<img src=\"imgs/test_plot.png\" width=40% style=\"float: left;\"> </img>\n"
   ]
  },
  {
   "cell_type": "markdown",
   "metadata": {},
   "source": [
    "### Question 1.5: Co-Occurrence Plot Analysis [written] (3 points)\n",
    "\n",
    "Now we will put together all the parts you have written! We will compute the co-occurrence matrix with fixed window of 4 (the default window size), over the Reuters \"grain\" corpus. Then we will use TruncatedSVD to compute 2-dimensional embeddings of each word. TruncatedSVD returns U\\*S, so we need to normalize the returned vectors, so that all the vectors will appear around the unit circle (therefore closeness is directional closeness). **Note**: The line of code below that does the normalizing uses the NumPy concept of *broadcasting*. If you don't know about broadcasting, check out\n",
    "[Computation on Arrays: Broadcasting by Jake VanderPlas](https://jakevdp.github.io/PythonDataScienceHandbook/02.05-computation-on-arrays-broadcasting.html).\n",
    "\n",
    "Run the below cell to produce the plot. It'll probably take a few seconds to run. What clusters together in 2-dimensional embedding space? What doesn't cluster together that you might think should have?"
   ]
  },
  {
   "cell_type": "code",
   "execution_count": 36,
   "metadata": {},
   "outputs": [
    {
     "name": "stdout",
     "output_type": "stream",
     "text": [
      "Running Truncated SVD over 7146 words...\n",
      "Done.\n"
     ]
    },
    {
     "data": {
      "image/png": "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\n",
      "text/plain": [
       "<Figure size 720x360 with 1 Axes>"
      ]
     },
     "metadata": {
      "needs_background": "light"
     },
     "output_type": "display_data"
    }
   ],
   "source": [
    "# -----------------------------\n",
    "# Run This Cell to Produce Your Plot\n",
    "# ------------------------------\n",
    "reuters_corpus = read_corpus()\n",
    "M_co_occurrence, word2ind_co_occurrence = compute_co_occurrence_matrix(reuters_corpus)\n",
    "M_reduced_co_occurrence = reduce_to_k_dim(M_co_occurrence, k=2)\n",
    "\n",
    "# Rescale (normalize) the rows to make them each of unit-length\n",
    "M_lengths = np.linalg.norm(M_reduced_co_occurrence, axis=1)\n",
    "M_normalized = M_reduced_co_occurrence / M_lengths[:, np.newaxis] # broadcasting\n",
    "\n",
    "words = ['tonnes', 'grain', 'wheat',  'agriculture', 'corn', 'maize', 'export', 'department', 'barley', 'grains', 'soybeans', 'sorghum']\n",
    "\n",
    "plot_embeddings(M_normalized, word2ind_co_occurrence, words)"
   ]
  },
  {
   "cell_type": "markdown",
   "metadata": {},
   "source": [
    "#### <font color=\"red\">Write your answer here.</font>\n"
   ]
  },
  {
   "cell_type": "markdown",
   "metadata": {},
   "source": [
    "## Part 2: Prediction-Based Word Vectors (15 points)\n",
    "\n",
    "As discussed in class, more recently prediction-based word vectors have demonstrated better performance, such as word2vec and GloVe (which also utilizes the benefit of counts). Here, we shall explore the embeddings produced by GloVe. Please revisit the class notes and lecture slides for more details on the word2vec and GloVe algorithms. If you're feeling adventurous, challenge yourself and try reading [GloVe's original paper](https://nlp.stanford.edu/pubs/glove.pdf).\n",
    "\n",
    "Then run the following cells to load the GloVe vectors into memory. **Note**: If this is your first time to run these cells, i.e. download the embedding model, it will take a couple minutes to run. If you've run these cells before, rerunning them will load the model without redownloading it, which will take about 1 to 2 minutes."
   ]
  },
  {
   "cell_type": "code",
   "execution_count": 37,
   "metadata": {},
   "outputs": [],
   "source": [
    "def load_embedding_model():\n",
    "    \"\"\" Load GloVe Vectors\n",
    "        Return:\n",
    "            wv_from_bin: All 400000 embeddings, each lengh 200\n",
    "    \"\"\"\n",
    "    import gensim.downloader as api\n",
    "    wv_from_bin = api.load(\"glove-wiki-gigaword-200\")\n",
    "    print(\"Loaded vocab size %i\" % len(list(wv_from_bin.index_to_key)))\n",
    "    return wv_from_bin"
   ]
  },
  {
   "cell_type": "code",
   "execution_count": 38,
   "metadata": {},
   "outputs": [
    {
     "name": "stdout",
     "output_type": "stream",
     "text": [
      "[==================================================] 100.0% 252.1/252.1MB downloaded\n",
      "Loaded vocab size 400000\n"
     ]
    }
   ],
   "source": [
    "# -----------------------------------\n",
    "# Run Cell to Load Word Vectors\n",
    "# Note: This will take a couple minutes\n",
    "# -----------------------------------\n",
    "wv_from_bin = load_embedding_model()"
   ]
  },
  {
   "cell_type": "markdown",
   "metadata": {},
   "source": [
    "#### Note: If you are receiving a \"reset by peer\" error, rerun the cell to restart the download. "
   ]
  },
  {
   "cell_type": "markdown",
   "metadata": {},
   "source": [
    "### Reducing dimensionality of Word Embeddings\n",
    "Let's directly compare the GloVe embeddings to those of the co-occurrence matrix. In order to avoid running out of memory, we will work with a sample of 10000 GloVe vectors instead.\n",
    "Run the following cells to:\n",
    "\n",
    "1. Put 10000 Glove vectors into a matrix M\n",
    "2. Run `reduce_to_k_dim` (your Truncated SVD function) to reduce the vectors from 200-dimensional to 2-dimensional."
   ]
  },
  {
   "cell_type": "code",
   "execution_count": 39,
   "metadata": {},
   "outputs": [],
   "source": [
    "def get_matrix_of_vectors(wv_from_bin, required_words=['tonnes', 'grain', 'wheat',  'agriculture', 'corn', 'maize', 'export', 'department', 'barley', 'grains', 'soybeans', 'sorghum']):\n",
    "    \"\"\" Put the GloVe vectors into a matrix M.\n",
    "        Param:\n",
    "            wv_from_bin: KeyedVectors object; the 400000 GloVe vectors loaded from file\n",
    "        Return:\n",
    "            M: numpy matrix shape (num words, 200) containing the vectors\n",
    "            word2ind: dictionary mapping each word to its row number in M\n",
    "    \"\"\"\n",
    "    import random\n",
    "    words = list(wv_from_bin.index_to_key)\n",
    "    print(\"Shuffling words ...\")\n",
    "    random.seed(225)\n",
    "    random.shuffle(words)\n",
    "    words = words[:10000]\n",
    "    print(\"Putting %i words into word2ind and matrix M...\" % len(words))\n",
    "    word2ind = {}\n",
    "    M = []\n",
    "    curInd = 0\n",
    "    for w in words:\n",
    "        try:\n",
    "            M.append(wv_from_bin.get_vector(w))\n",
    "            word2ind[w] = curInd\n",
    "            curInd += 1\n",
    "        except KeyError:\n",
    "            continue\n",
    "    for w in required_words:\n",
    "        if w in words:\n",
    "            continue\n",
    "        try:\n",
    "            M.append(wv_from_bin.get_vector(w))\n",
    "            word2ind[w] = curInd\n",
    "            curInd += 1\n",
    "        except KeyError:\n",
    "            continue\n",
    "    M = np.stack(M)\n",
    "    print(\"Done.\")\n",
    "    return M, word2ind"
   ]
  },
  {
   "cell_type": "code",
   "execution_count": 40,
   "metadata": {},
   "outputs": [
    {
     "name": "stdout",
     "output_type": "stream",
     "text": [
      "Shuffling words ...\n",
      "Putting 10000 words into word2ind and matrix M...\n",
      "Done.\n",
      "Running Truncated SVD over 10012 words...\n",
      "Done.\n"
     ]
    }
   ],
   "source": [
    "# -----------------------------------------------------------------\n",
    "# Run Cell to Reduce 200-Dimensional Word Embeddings to k Dimensions\n",
    "# Note: This should be quick to run\n",
    "# -----------------------------------------------------------------\n",
    "M, word2ind = get_matrix_of_vectors(wv_from_bin)\n",
    "M_reduced = reduce_to_k_dim(M, k=2)\n",
    "\n",
    "# Rescale (normalize) the rows to make them each of unit-length\n",
    "M_lengths = np.linalg.norm(M_reduced, axis=1)\n",
    "M_reduced_normalized = M_reduced / M_lengths[:, np.newaxis] # broadcasting"
   ]
  },
  {
   "cell_type": "markdown",
   "metadata": {},
   "source": [
    "**Note: If you are receiving out of memory issues on your local machine, try closing other applications to free more memory on your device. You may want to try restarting your machine so that you can free up extra memory. Then immediately run the jupyter notebook and see if you can load the word vectors properly. If you still have problems with loading the embeddings onto your local machine after this, please go to office hours or contact course staff.**"
   ]
  },
  {
   "cell_type": "markdown",
   "metadata": {},
   "source": [
    "### Question 2.1: GloVe Plot Analysis [written] (3 points)\n",
    "\n",
    "Run the cell below to plot the 2D GloVe embeddings for `['tonnes', 'grain', 'wheat',  'agriculture', 'corn', 'maize', 'export', 'department', 'barley', 'grains', 'soybeans', 'sorghum']`.\n",
    "\n",
    "What clusters together in 2-dimensional embedding space? What doesn't cluster together that you think should have? How is the plot different from the one generated earlier from the co-occurrence matrix? What is a possible cause for the difference?"
   ]
  },
  {
   "cell_type": "code",
   "execution_count": 55,
   "metadata": {
    "scrolled": true
   },
   "outputs": [
    {
     "data": {
      "image/png": "iVBORw0KGgoAAAANSUhEUgAAAn0AAAEvCAYAAAAw3XesAAAAOXRFWHRTb2Z0d2FyZQBNYXRwbG90bGliIHZlcnNpb24zLjUuMCwgaHR0cHM6Ly9tYXRwbG90bGliLm9yZy8/fFQqAAAACXBIWXMAAAsTAAALEwEAmpwYAAAwcklEQVR4nO3deXwV5b3H8c+PECAsGjFAIeglWAh7AgmCQNjUAkJZFIq4gRtVi1psqbiUm6utTRVbRa8gdQEtrVRQoYhyZReplmCCgOwalEVAZEkghJzkuX/kkLIkJOGcrPN9v17nlVmemec3zwvIl5kzM+acQ0RERESqtmrlXYCIiIiIlD6FPhEREREPUOgTERER8QCFPhEREREPUOgTERER8QCFPhEREREPqF7eBZxPRESEa9asWXmXISIiIlKktWvXfu+ca1DedRSmQoe+Zs2akZycXN5liIiIiBTJzHaWdw3no8u7IiIiIh6g0CciIiLiAQp9IiIiIh6g0CciIiIVwvz580lKSrqgbceMGcOcOXMAeO655zh+/HgwS6sSFPpERESk3Pl8PgYPHszEiRMD3teFhD6fzxdwvxWdQp+IiIgEzdChQ4mLi6Nt27ZMnz4dgFdffZWWLVvSu3dv7r77bsaNGwfknZ176KGH6NOnDw8//DAzZszIX7dv3z6GDRtGTEwMMTExrF69mrS0NNq1a5ff1+TJk0lMTDyj/ylTprBnzx769OlDnz59AKhbt27++jlz5jBmzJgC+9+xYwf9+/cnLi6OhIQENm/eXFrDVC4q9CNbREREpHJ57bXXqF+/PpmZmXTu3JmBAwfy5JNP8vnnn1OvXj369u1LTExMfvutW7eyePFiQkJCmDFjRv7yBx54gF69evHuu++Sk5NDRkYGhw4dKrL/Bx54gD/96U8sW7aMiIiIItuf3v/VV1/NtGnTaNGiBZ999hn33XcfS5cuvaBxqIgU+kREROSCvZeym2cWbWHP4UyahIdx2dcL2PTpEgC+/fZb3nzzTXr16kX9+vUBGDFiBFu3bs3ffsSIEYSEhJyz36VLl/LGG28AEBISwsUXX1ys0FdSp/rPyMhg9erVjBgxIn9dVlZW0PsrTwp9IiIickHeS9nNI++sJzM7B4AdX3xGyseLeH32PEZ2+zG9e/cmOjqaTZs2FbqPOnXqFLu/6tWrk5ubmz9/4sSJYm1nZoVuc6r/3NxcwsPDSU1NLXY9lY2+0yciIiIX5JlFW/IDH0Bu1nGoWYcpK79h8+bNfPrppxw/fpwVK1Zw6NAhfD4fc+fOLda+r776aqZOnQpATk4OR48epVGjRuzfv5+DBw+SlZXFggULCty2Xr16pKen5883atSITZs2kZuby7vvvlvgNhdddBFRUVG8/fbbADjnWLduXbFqrSwU+kREROSC7DmcecZ8WFQcLjeXNX+6k9/+9rd07dqVyMhIHn30Ubp06cI111xDmzZtuPjii4vc9/PPP8+yZcto3749cXFxbNy4kdDQUCZNmkSXLl0YNGgQrVq1KnDbsWPHMmDAgPwbOZKSkhg0aBB9+/alcePGhfY5a9YsXn31VWJiYmjbti3z5s0rwWhUfOacK+8aChUfH+/07l0REZGKqXvSUnafFfwAIsPD+GRi3/z5jIwM6tati8/nY9iwYdxxxx0MGzasLEstE2a21jkXX951FEZn+kREROSCTOgXTVjomTdhhIWGMKFf9BnLEhMTiY2NpV27dkRFRTF06NAyrFJO0Y0cIiIickGGdowEOOPu3Qn9ovOXnzJ58uTyKE/OotAnIiIiF2xox8hzQp5UTLq8KyIiIuIBCn0iIiIiHqDQJyIiIuIBCn0iIiIiHhCU0Gdm/c1si5ltN7OJ52nX2cxyzGx4MPoVERERkeIJOPSZWQjwv8AAoA0wyszaFNLuj8CiQPsUERERkZIJxpm+K4HtzrmvnHMngbeAIQW0ux+YC+wPQp8iIiIiUgLBCH2RwLenze/yL8tnZpHAMGBaEPoTERERkRIKRuizApad/ULf54CHnXM5Re7MbKyZJZtZ8oEDB4JQnoiIiIgE440cu4DLTptvCuw5q0088JaZAUQA15mZzzn33tk7c85NB6YDxMfHnx0eRUREROQCBCP0rQFamFkUsBu4Ebjp9AbOuahT02Y2A1hQUOATERERkdIRcOhzzvnMbBx5d+WGAK855zaa2T3+9foen4iIiEg5C8aZPpxzC4GFZy0rMOw558YEo08RERERKT69kUNERETEAxT6RERERDxAoU9ERETEAxT6RERERDxAoU9ERETEAxT6RERERDxAoU9ERETEAxT6RERERDxAoU9ERETEAxT6RERERDxAoU9ERETEAxT6RERERDxAoU9ERETEAxT6RERERDxAoU9ERETEAxT6RERERDxAoU9ERETEAxT6RERERDxAoU9ERETEAxT6RERExHMSExOZPHlyqe3fzMLN7L5S6+AC+lHoExEREQkiMwsBwoFSD30l6UehT0RERDzh97//PdHR0VxzzTVs2bIFgB07dtC/f3/i4uJISEhg8+bNAIwZM4Z77rmHhIQEWrZsyYIFCwBIS0sjISGBTp060alTJ1avXg3A8uXLAVqa2d+A9UAScIWZpZrZM2bW28xWmNk/zGyrmSWZ2c1m9m8zW29mVwCYWQMzm2tma/yf7v7liWb2mpktN7OvzOwB/2Gd0c/5jr96MAdTREREpCJau3Ytb731FikpKfh8Pjp16kRcXBxjx45l2rRptGjRgs8++4z77ruPpUuXAnkBb8WKFezYsYM+ffqwfft2GjZsyEcffUStWrXYtm0bo0aNIjk5+VQ3dYDHnHNfm1kzoJ1zLhbAzHoDMUBr4AfgK+AV59yVZvYgcD/wS+B54M/OuVVmdjmwyL8NQCugD1AP2GJmU4GJp/dzPgp9IiIiUuV9/PHHDBs2jNq1awMwePBgTpw4werVqxkxYkR+u6ysrPzpn/3sZ1SrVo0WLVrQvHlzNm/eTFRUFOPGjSM1NZWQkBC2bt16ejfHnHNfn6eMNc65vQBmtgP4P//y9eSFOYBrgDZmdmqbi8ysnn/6fedcFpBlZvuBRiUZA4U+ERERqZLeS9nNM4u2sOdwJmzYxpVNapyxPjc3l/DwcFJTUwvc/rTglT//5z//mUaNGrFu3Tpyc3OpVavWGbssoqSs06ZzT5vP5T+ZrBpwlXMus4BaTt8+hxLmuKB8p8/M+pvZFjPbbmYTC1h/s5l94f+sNrOYYPQrIiIiUpD3UnbzyDvr2X04EweciGjJvHnvMftf20lPT+ef//wntWvXJioqirfffhsA5xzr1q3L38fbb79Nbm4uO3bs4KuvviI6OpojR47QuHFjqlWrxptvvklOTk5hJaSTdxm2pP4PGHdqxsxii2hf7H4CDn3+O1T+FxgAtAFGmVmbs5p9DfRyznUAngSmB9qviIiISGGeWbSFzOz/BLKaP/oxYdEJjBnchxtuuIGEhAQAZs2axauvvkpMTAxt27Zl3rx5+dtER0fTq1cvBgwYwLRp06hVqxb33XcfM2fOpGvXrmzdupU6deoU2L9z7iDwiZltKOoGi7M8AMT7T5R9CdxzvsYl6ceccyWoo4AdmF0FJDrn+vnnH/EX8YdC2l8CbHDORRa17/j4eHfalyNFREREiiVq4vsUlHAM+DppYJHbjxkzhkGDBjF8+PBi92lma51z8cWvsmwF4/JuJPDtafO7/MsKcyfwQRD6FRERESlQk/CwEi33gmDcyGEFLCvw9KGZ9SEv9PUodGdmY4GxAJdffnkQyhMRERGvmdAvmkfeWX/GJd6w0BAm9Isu1vYzZswopcrKTzDO9O0CLjttvimw5+xGZtYBeAUY4r/+XCDn3HTnXLxzLr5BgwZBKE9ERES8ZmjHSP5wfXsiw8MwIDI8jD9c356hHYv8dlmVFYwzfWuAFmYWBewGbgRuOr2B/+GC7wC3Oue2nrsLERERkeAa2jHS0yHvbAGHPuecz8zGkffE6BDgNefcRjO7x79+GjAJuBR4yf+cGV9F/qKjiIiISFUT8N27pUl374qIiEhl4YW7d0VERESkglPoExEREfEAhT4RERERD1DoExEREfEAhT4RERERD1DoExEREfEAhT4RERERD1DoExEREfEAhT4RERERD1DoExEREfEAhT4RERERD1DoExEREfEAhT4RERERD1DoExEREfEAhT4RERERD1DoExEREfEAhT4RERERD1DoExEREfEAhT4RERERD1DoExEREfEAhT4RERERD1DoExEREfEAhT4RERERD1DoExEREfEAhT4RERERDwhK6DOz/ma2xcy2m9nEAtabmU3xr//CzDoFo18RERERKZ6AQ5+ZhQD/CwwA2gCjzKzNWc0GAC38n7HA1ED7FREREZHiC8aZviuB7c65r5xzJ4G3gCFntRkCvOHyfAqEm1njIPQtIiIiIsUQjNAXCXx72vwu/7KSthERERGRUhKM0GcFLHMX0CavodlYM0s2s+QDBw4EXJyIiIiIBCf07QIuO22+KbDnAtoA4Jyb7pyLd87FN2jQIAjliYiIiEgwQt8aoIWZRZlZDeBGYP5ZbeYDt/nv4u0KHHHO7Q1C3yIiIiJSDNUD3YFzzmdm44BFQAjwmnNuo5nd418/DVgIXAdsB44Dtwfar4iIiIgUX8ChD8A5t5C8YHf6smmnTTvgF8HoS0RERERKTm/kEBEREfEAhT4RERERD1DoExEREfEAhT4RERERD1DoExEREfEAhT4RERERD1DoExEREfEAhT4RERERD1DoExEREfEAhT4RERERD1DoExEREfEAhT4RERERD1DoExEREfEAhT4RERERD1DoExEREfEAhT4RERERD1DoExEREfEAhT4RERERD1DoExEREfEAhT4RERERD1DoExEREfEAhT4RERERD1DoExEREfEAhT4RERERD1DoExEREfEAhT4RERERDwgo9JlZfTP7yMy2+X9eUkCby8xsmZltMrONZvZgIH2KiIiISMkFeqZvIrDEOdcCWOKfP5sP+JVzrjXQFfiFmbUJsF8RERERKYFAQ98QYKZ/eiYw9OwGzrm9zrnP/dPpwCYgMsB+RURERKQEAg19jZxzeyEv3AENz9fYzJoBHYHPAuxXREREREqgelENzGwx8KMCVj1Wko7MrC4wF/ilc+7oedqNBcYCXH755SXpQkREREQKUWToc85dU9g6M9tnZo2dc3vNrDGwv5B2oeQFvlnOuXeK6G86MB0gPj7eFVWfiIiIiBQt0Mu784HR/unRwLyzG5iZAa8Cm5xzfwqwPxERERG5AIGGviTgWjPbBlzrn8fMmpjZQn+b7sCtQF8zS/V/rguwXxEREREpgSIv756Pc+4gcHUBy/cA1/mnVwEWSD8iIiIiEhi9kUNERETEAxT6RERERDxAoU9ERETEAxT6RERERDxAoU9ERETEAxT6RERERDxAoU9ERETEAxT6RERERDxAoU9ERETEAxT6RERERDxAoU9ERETEAxT6REREpNKrW7duUPaTmprKwoULg7KvikahT0RERMRPoU9ERESkHD399NNMmTIFgPHjx9O3b18AlixZwi233ALAY489RkxMDF27dmXfvn0AHDhwgBtuuIHOnTvTuXNnPvnkEwD+/e9/061bNzp27Ei3bt3YsmULJ0+eZNKkScyePZvY2Fhmz55dDkdaehT6REREpMLr2bMnH3/8MQDJyclkZGSQnZ3NqlWrSEhI4NixY3Tt2pV169bRs2dP/vKXvwDw4IMPMn78eNasWcPcuXO56667AGjVqhUrV64kJSWFJ554gkcffZQaNWrwxBNPMHLkSFJTUxk5cmS5HW9pqF7eBYiIiIgUJS4ujrVr15Kenk7NmjXp1KkTycnJfPzxx0yZMoUaNWowaNCg/LYfffQRAIsXL+bLL7/M38/Ro0dJT0/nyJEjjB49mm3btmFmZGdnl8txlSWFPhEREamw3kvZzTOLtrDncCY/2MWMf/LPdOvWjQ4dOrBs2TJ27NhB69atCQ0NxcwACAkJwefzAZCbm8u//vUvwsLCztjv/fffT58+fXj33XdJS0ujd+/eZX1oZU6Xd0VERKRCei9lN4+8s57dhzNxgDVuzcyXXySkSRsSEhKYNm0asbGx+WGvID/5yU948cUX8+dTU1MBOHLkCJGRkQDMmDEjf329evVIT08vjcMpdwp9IiIiUiE9s2gLmdk5+fM1m7bFl/EDH+yvR6NGjahVqxYJCQnn3ceUKVNITk6mQ4cOtGnThmnTpgHwm9/8hkceeYTu3buTk/OfPvr06cOXX35ZJW/kMOdceddQqPj4eJecnFzeZYiIiEg5iJr4PgWlFAO+ThpY1uUUyczWOufiy7uOwuhMn4iIiFRITcLDSrRczk+hT0RERCqkCf2iCQsNOWNZWGgIE/pFl1NFlZvu3hUREZEKaWjHvBstTt292yQ8jAn9ovOXS8ko9ImIiEiFNbRjpEJekOjyroiIiIgHBBT6zKy+mX1kZtv8Py85T9sQM0sxswWB9CkiIiIiJRfomb6JwBLnXAtgiX++MA8CmwLsT0RERDzI5/Mxf/58kpKSyruUSivQ0DcEmOmfngkMLaiRmTUFBgKvBNifiIiIVHJvvPEGHTp0ICYmhltvvZWdO3dy9dVX06FDB/r27cs333wDwJgxY3jooYfo06cPDz/8MO+88w579uyhW7duNG/enDlz5py3n+eee47jx4+XxSFVCgE9nNnMDjvnwk+bP+ScO+cSr5nNAf4A1AN+7ZwbVJz96+HMIiIiVcv999/Pyy+/zFVXXUWTJk1o3bo1zz//PFdddRXp6en86Ec/YufOnTjn2LZtG9WqVeOLL76gSZMm9OjRg++++46tW7dy/fXXs3z5ctq0acN3333H008/zfDhw/P7ycnJ4YorriA5OZmIiIgyObZK/3BmM1tsZhsK+AwpTgdmNgjY75xbW8z2Y80s2cySDxw4UJxNREREpBJITk7mr3/9K5deeimHDh1i4cKFfP/99/zwww80atSIhQsXsn79ejZt2kRSUhKhoaHUqVOH9u3bc8899+CcIyoqitmzZ7NixQqOHDlCjx49WLBgARMnTqRu3bpMmjSJLl268Pvf/549e/bQp08f+vTpU96HXiEUGfqcc9c459oV8JkH7DOzxgD+n/sL2EV3YLCZpQFvAX3N7K/n6W+6cy7eORffoEGDCzooERERqVjeS9nNkF89y9GsXEKi+/DEzA9o1qwZ+/fvx8xIT0/nN7/5DTfddBMhISFMmDCB/fv3k5mZSXx8PDt27ODgwYNkZ2fz8MMP069fP2rUqEFycjJbt25l3759HDt2jHbt2vHZZ58xadIkmjRpwrJly1i2bFl5H36FEOh3+uYDo/3To4F5Zzdwzj3inGvqnGsG3Agsdc7dEmC/IiIiUgm8l7KbtpM+5JezUzn03U5cdha7V73NyH7d2fH1Tvbt28cll1zCypUrSU5OpkmTJlSrVo1hw4bRsGFDfvGLX5CVlcWoUaM4evQoR48epXfv3tSqVQsz4+abb2blypU45wgJCeGGG24o70OusAINfUnAtWa2DbjWP4+ZNTGzhYEWJyIiIpXXeym7mTBnHcdO5gBQ/eIfYTXCqH/tveTm5nL8+HHS09P5r//6Lw4fPsy6det44403aNSoEREREZgZy5cvP2Of57sXoVatWoSEhBS63usCCn3OuYPOuaudcy38P3/wL9/jnLuugPbLi3sTh4iIiFRuzyzaQnbOf0Ja3Q7XQq6PI5++TfV6EYT9uDPDhw/nm2++4fHHH+e3v/0t7dq146mnniIxMZEDBw7w4x//GOccs2fP5vrrryc2NpYVK1Zw4sQJZs6cyd///nd69epVYP/16tUjPT29rA63wtMbOURERKRU7DmcecZ8jYjLuaTvXVSrEUZOxkFOfLWWtLQ0evbsyeOPP87EiRNZs2YN9erVyw9zR48e5cCBA0RFRTFlyhRef/11/vCHP7Bx40aefPJJOnXqxJAhQ8jIyDin/7FjxzJgwADdyOEX0CNbSpse2SIiIlJ5dU9ayu6zgt+B+c+QffAbnC+bG2+6hTdf+EOB2y5fvpzJkyezYEHleZFXRX9kS/XyLkBERESqpgn9opkwZ90Zl3gbDJ4AwC1dL+d3Q9uXV2mepNAnIiIipWJox0gA/uefGzl0PBuA8LBQEge3zV9XmN69e9O7d+/SLtFTFPpERESk1AztGFlkwJOyoRs5RERERDxAoU9ERETEAxT6RERERDxAoU9ERETEAxT6RERERDxAoU9ERETEAxT6RERERDxAoU9ERETEAxT6RERERDxAoU9ERETEAxT6RERERDxAoU9ERETEAxT6RERERDxAoU9ERETEAxT6RERERDxAoU9ERETEAxT6RERERDxAoU9ERETEAxT6RERERDxAoU9ERETEAxT6RERERDwgoNBnZvXN7CMz2+b/eUkh7cLNbI6ZbTazTWZ2VSD9ioiIiEjJBHqmbyKwxDnXAljiny/I88CHzrlWQAywKcB+RURERKQEAg19Q4CZ/umZwNCzG5jZRUBP4FUA59xJ59zhAPsVERERkRIINPQ1cs7tBfD/bFhAm+bAAeB1M0sxs1fMrE5hOzSzsWaWbGbJBw4cCLA8EREREYFihD4zW2xmGwr4DClmH9WBTsBU51xH4BiFXwbGOTfdORfvnItv0KBBMbsQERERkfOpXlQD59w1ha0zs31m1tg5t9fMGgP7C2i2C9jlnPvMPz+H84Q+EREREQm+QC/vzgdG+6dHA/PObuCc+w741syi/YuuBr4MsF8RERERKYFAQ18ScK2ZbQOu9c9jZk3MbOFp7e4HZpnZF0As8FSA/YqIiIhICRR5efd8nHMHyTtzd/byPcB1p82nAvGB9CUiIiIiF05v5BARERHxAIU+EREREQ9Q6BMRERHxAIU+EREREQ9Q6BMRERHxAIU+EREREQ9Q6BMRERHxAIU+EREREQ9Q6BMRERHxAIU+EREREQ9Q6BMRERHxAIU+EREREQ9Q6BMRERHxAIU+EREREQ9Q6BMREQHmz59PUlJSeZchUmrMOVfeNRQqPj7eJScnl3cZIiJSRfh8PqpXr17eZUgVZWZrnXPx5V1HYfQnX0REqownn3ySWbNmcdlllxEREUFcXBwLFiygW7dufPLJJwwePJiWLVvyu9/9jpMnT3LppZcya9YsGjVqxIwZM0hOTubFF19kzJgxXHTRRSQnJ/Pdd9/x9NNPM3z4cPbu3cvIkSM5evQoPp+PqVOnkpCQUN6HLVIsCn0iIlIlJCcnM3fuXFJSUvD5fHTq1Im4uDgADh8+zIoVKwA4dOgQn376KWbGK6+8wtNPP82zzz57zv727t3LqlWr2Lx5M4MHD2b48OH87W9/o1+/fjz22GPk5ORw/PjxMj1GkUAo9ImISJWwatUqhgwZQlhYGAA//elP89eNHDkyf3rXrl2MHDmSvXv3cvLkSaKiogrc39ChQ6lWrRpt2rRh3759AHTu3Jk77riD7Oxshg4dSmxsbOkdkEiQ6UYOERGptN5L2U33pKVETXyf5xdvZfPeowW2q1OnTv70/fffz7hx41i/fj0vv/wyJ06cKHCbmjVr5k+f+v57z549WblyJZGRkdx666288cYbQTwakdKl0CciIuXq8OHDvPTSSyXe7r2U3Tzyznp2H87EAScubcG8f/6Tf3y6g4yMDN5///0Ctzty5AiRkZEAzJw5s0R97ty5k4YNG3L33Xdz55138vnnn5e4bpHyotAnIiLl6kJD3zOLtpCZnZM/X7NxS2pdcSWjf9qb66+/nvj4eC6++OJztktMTGTEiBEkJCQQERFRoj6XL19ObGwsHTt2ZO7cuTz44IMlrlukvOiRLSIiUq5uvPFG5s2bR3R0NNdeey0AH3zwAWbG448/zsiRI1m+fDmJiYlERESwYcMG4uLi+KTpKDBj19Q7qNvuajJ3/Jtc30kaDnuUbc/fRo8ePWjatCl79+7F5/ORmJjIkCFD2LhxI7fffjsnT54kNzeXuXPn0qJFi3IeBakKKvojW3SmT0REylVSUhJXXHEFqampdO3aldTUVNatW8fixYt58MEHufPOOwFISUnhueee48svv+Srr76i3pEd+fuoVvsiGo95nmqhNdk/6zd06tSJiy66iJ/97GesWbOGZcuWMWHCBI4dO8a0adN48MEHSU1NJTk5maZNm5bXoYuUKYU+ERGpMEaNGsWoUaMICQmhUaNGXHvttQwZMgSAK6+8kqZNm1KtWjViY2O5uqkRFhoCQO2WVwHQeMAvaNM+hs2bN5ORkUFSUhKxsbH07t2bEydO8M0333DVVVfx1FNP8cc//pGdO3fm3+0rUtUFFPrMrL6ZfWRm2/w/Lymk3Xgz22hmG8zs72ZWK5B+RUSk8khLS6NVq1bcddddtGvXjptvvpnFixfTOrYzYRFNufKhV9i+9wdaxcSTnZ3NU089xZYtWwD47rvvePLJJwFYt24dsbGxxMbG8tprr5GR9gW/G9IGsjLYP+cJDsy8nzh2cElYXhB0zjF37lxSU1NJTU3lm2++oXXr1tx0003Mnz+fsLAw+vXrx9KlS8ttbETKUqBn+iYCS5xzLYAl/vkzmFkk8AAQ75xrB4QANwbYr4iIVDDHjh1j4MCBxMTE0K5dO2bPns2SJUsYOHAgW7Zs4eDBg6xZs4Z///vfjLp1DG7QE9TrdTuH//UPso4ehEH/Q2iNmqSnp9OlSxd69uxJamoq4eHh7N69G4CQkBDMjNq1a9OpUyeWvv5H8GUR3bA2XVo3Y/2qRWRmZpKYmIjP56Nv3740b96cKVOmkJKSwrFjx+jTpw/XX38906dPp1WrVnzxxRflPHIiZSPQ0DcEOHW/+0xgaCHtqgNhZlYdqA3sCbBfERGpYD788EOaNGnCunXr2LBhA/3792fMmDG88MIL/PjHP6ZevXq8/PLLdO3alSPHMjl29BChDZrhO7SH0AbN2Dp5BNknszh+/DiZmZls2bKFZs2aUbNmTZ599lnatm3LokWLOHz4MDVq1KB27dp8++23QN5ZvW3btrFnzx4yMzMBCAsLY8CAAdSsWZOHHnqIxx57jA8//JCMjIz8d/BmZWVx2223leewiZSZQENfI+fcXgD/z4ZnN3DO7QYmA98Ae4Ejzrn/C7BfERGpYNq3b8/ixYt5+OGHeerVd+g16R8c4GImLPqOLBfC6NGjWblyJSEhIYRGtuPYxmW4k5m47BOE1o8kPOFWsGqkpKTQuHFj/vWvf3Ho0CF8Ph+bNm3i0KFDREVF4Zyjfv36jBkzhuPHjxMTE5N/9q9Hjx75Z+5++tOf8sorr7Bp0yZatGjB9OnTad++Pd9//z2DBg3ihRdeYMmSJdSvX7+cR06kbBQZ+sxssf+7eGd/hhSnA//3/IYAUUAToI6Z3XKe9mPNLNnMkg8cOFDc4xARkXJy6q0Y/V7bRoNb/8zmrHB+l/hb0j7Pe9ftvqMn2Hf0BJ9s+z5/mx+1iuPYxmUc3/4Z1WrWxp3MJKTepQBnvOXCzHDOER4ezrXXXsvdd99NWloamzZtAuDbb7+levXqfP7557z88sscOnSIY8eOAWe+USMkJASfz0fLli1Zu3Yt7du355FHHuGJJ54o9fERqSiKfPeuc+6awtaZ2T4za+yc22tmjYH9BTS7BvjaOXfAv807QDfgr4X0Nx2YDnnP6Sv6EEREpLyceitGZnYOvvSD7Aurx4FaHajbeRjpqR/gO7If35F9OOd48S+v8dht15GSksIN3aJ5aeOlpK9dQLWadbm4yw0cXPgcuFw2bNgAwN/+9jfat2+f/37cyZMn07ZtW2JiYjhx4gTPPPMMtWvXpk2bNnTq1Ildu3bhnMPn8xVa7549e6hfvz633HILdevWZcaMGWUzUCIVQJGhrwjzgdFAkv/nvALafAN0NbPaQCZwNaAnLouIVAGnvxUj+0Aa+5e/DmZYterU/8l95GYd44clrwBGZnYu99xzT/4ZuJycHKa/9CIRNz1Dk/Awpj70GbckRNO2bVt27tzJ0qVLmT17Ng0aNODrr7/m3nvvZe/evWRnZ3PzzTczePBgnHOMHz+eyMhI+vfvz5o1awp8C8cp69evZ8KECVSrVo3Q0FCmTp1aFsMkUiEE9EYOM7sU+AdwOXnhboRz7gczawK84py7zt/uf4CRgA9IAe5yzmUVtX+9kUNEpGKLmvg+xf0tEhkexicT++bPjxs3jo4dO+Y/fFmksqvob+QI6Eyfc+4geWfuzl6+B7jutPn/Bv47kL5ERKTiaRIexu7DmecsNzgjDIaFhjChX3T+fFxcHHXq1OHZZ58t/SJFBNAbOUREJAAT+kXnvxXjlLDQEG7uejmR4WEYeWf4/nB9e4Z2jMxvs3btWlauXHnGzRYiUroC/U6fiIh42Kkg98yiLew5nEmT8DAm9Is+I+CJSMWg0CciIgEZ2jFSIU+kEtDlXREREREPUOgTERER8QCFPhGRUpCWlka7du0uePvExEQmT54cxIpExOsU+kREKpjzvVFCRORCKfSJiJQSn8/H6NGj6dChA8OHD+f48eM88cQTdO7cmXbt2jF27FhOPSC/d+/ePProo/Tq1Yvnn3/+jP3s2LGD/v37ExcXR0JCAps3byY9PZ2oqCiys7MBOHr0KM2aNcufFxE5m0KfiEgp2bJlC2PHjuWLL77goosu4qWXXmLcuHGsWbOGDRs2kJmZyYIFC/LbHz58mBUrVvCrX/3qjP2MHTuWF154gbVr1zJ58mTuu+8+6tWrR+/evXn//fcBeOutt7jhhhsIDQ0t02MUkcpDoU9EpJRcdtlldO/eHYBbbrmFVatWsWzZMrp06UL79u1ZunQpGzduzG8/cuTIc/aRkZHB6tWrGTFiBLGxsfz85z9n7969ANx11128/vrrALz++uvcfvvtZXBUIlJZ6Tl9IiJB8l7K7vyHFNd3RziRnXvGejPjvvvuIzk5mcsuu4zExEROnDiRv75OnTrn7DM3N5fw8HBSU1PPWde9e3fS0tJYsWIFOTk5Ad04IiJVn870iYgEwXspu3nknfXsPpyJA/YdPcGB73aTNGM+AH//+9/p0aMHABEREWRkZDBnzpwi93vRRRcRFRXF22+/DYBzjnXr1uWvv+222xg1apTO8olIkRT6RESC4JlFW8jMzjljWeill/Hc1L/QoUMHfvjhB+69917uvvtu2rdvz9ChQ+ncuXOx9j1r1ixeffVVYmJiaNu2LfPmzctfd/PNN3Po0CFGjRoV1OMRkarHTt05VhHFx8e75OTk8i5DRKRIURPfp6B/TQ34OmlgqfU7Z84c5s2bx5tvvllqfYhI8ZjZWudcfHnXURh9p09EJAiahIex+3BmgctLy/33388HH3zAwoULS60PEak6dHlXRCQIJvSLJiw05IxlYaEhTOgXXWp9vvDCC2zfvp2WLVuWWh8iUnXoTF8pSUxMpG7duvz6178u71JEpAwM7RgJkH/3bpPwMCb0i85fLiJS3hT6ApCTk0NISEjRDUXEE4Z2jFTIE5EKS5d3gWPHjjFw4EBiYmJo164ds2fPZsmSJXTs2JH27dtzxx13kJWVBUCzZs144okn6NGjB2+//TYLFy6kVatW9OjRgwceeIBBgwbl7/fLL7+kd+/eNG/enClTpgDnvoR98uTJJCYmAnmvYRo/fjw9e/akdevWrFmzhuuvv54WLVrw+OOPl92AiIiISJWjM33Ahx9+SJMmTfJfZ3TkyBHatWvHkiVLaNmyJbfddhtTp07ll7/8JQC1atVi1apVnDhxghYtWrBy5UqioqLOeWTC5s2bWbZsGenp6URHR3PvvfcWWUuNGjVYuXIlzz//PEOGDGHt2rXUr1+fK664gvHjx3PppZcG/fhFRESk6vPsmb73UnbTPWkpURPf5/erM5i/cBEPP/wwH3/8MWlpaURFReV/OXr06NGsXLkyf9tTr0ravHkzzZs3JyoqCuCc0Ddw4EBq1qxJREQEDRs2ZN++fUXWNXjwYADat29P27Ztady4MTVr1qR58+Z8++23QTl2ERER8R5Pnuk79eT8Uw9S/SE0gotHPUtWvb088sgj/OQnPznv9qdelVTUMw5r1qyZPx0SEoLP56N69erk5v7n1Uynv4Lp9G2qVat2xvbVqlXD5/MV4+hEREREzuXJM31nPznfl36QLKqzpno7fv3rX7N69WrS0tLYvn07AG+++Sa9evU6Zz+tWrXiq6++Ii0tDYDZs2cX2XejRo3Yv38/Bw8eJCsriwULFgTnoERERETOw5Nn+vac9QDV7ANp7F/+OnvN+P3llzJ16lSOHDnCiBEj8Pl8dO7cmXvuueec/YSFhfHSSy/Rv39/IiIiuPLKK4vsOzQ0lEmTJtGlSxeioqJo1apV0I5LREREpDCefA1b96SlBT45PzI8jE8m9i3RvjIyMqhbty7OOX7xi1/QokULxo8fH6xSRUREpJKo6K9hC+jyrpmNMLONZpZrZoUepJn1N7MtZrbdzCYG0mcwBPPJ+X/5y1+IjY2lbdu2HDlyhJ///OfBKlNEREQkaAI602dmrYFc4GXg1865c07LmVkIsBW4FtgFrAFGOee+LGr/pXWmD/Ju5tCT80VERCRYKvqZvoC+0+ec2wRgZudrdiWw3Tn3lb/tW8AQoMjQV5r05HwRERHxkrK4ezcSOP0Bc7v8y0RERESkjBR5ps/MFgM/KmDVY865ecXoo6DTgIVeUzazscBYgMsvv7wYuxcRERGRohQZ+pxz1wTYxy7gstPmmwJ7ztPfdGA65H2nL8C+RURERISyuby7BmhhZlFmVgO4EZhfBv2KiIiIiF+gj2wZZma7gKuA981skX95EzNbCOCc8wHjgEXAJuAfzrmNgZUtIiIiIiUR6N277wLvFrB8D3DdafMLgYWB9CUiIiIiF86T794VERER8RqFPhEREREPqNDv3jWzA8DO8q7jAkUA35d3EVWAxjF4NJbBoXEMHo1lcGgcgyfQsfwv51yDYBUTbBU69FVmZpZckV/FUlloHINHYxkcGsfg0VgGh8YxeKr6WOryroiIiIgHKPSJiIiIeIBCX+mZXt4FVBEax+DRWAaHxjF4NJbBoXEMnio9lvpOn4iIiIgH6EyfiIiIiAco9AWJmdU3s4/MbJv/5yUFtLnMzJaZ2SYz22hmD5ZHrRWRmfU3sy1mtt3MJhaw3sxsin/9F2bWqTzqrOiKMY43+8fvCzNbbWYx5VFnZVDUWJ7WrrOZ5ZjZ8LKsr7IozjiaWW8zS/X/u7iirGusLIrx9/tiM/unma3zj+Xt5VFnRWdmr5nZfjPbUMj6qvv7xjmnTxA+wNPARP/0ROCPBbRpDHTyT9cDtgJtyrv28v4AIcAOoDlQA1h39riQ91q/DwADugKflXfdFe1TzHHsBlzinx6gcbzwsTyt3VLyXjM5vLzrrmifYv6ZDAe+BC73zzcs77or4qeYY/noqd89QAPgB6BGedde0T5AT6ATsKGQ9VX2943O9AXPEGCmf3omMPTsBs65vc65z/3T6cAmILKsCqzArgS2O+e+cs6dBN4ibzxPNwR4w+X5FAg3s8ZlXWgFV+Q4OudWO+cO+Wc/BZqWcY2VRXH+TALcD8wF9pdlcZVIccbxJuAd59w3AM45jWXBijOWDqhnZgbUJS/0+cq2zIrPObeSvLEpTJX9faPQFzyNnHN7IS/cAQ3P19jMmgEdgc9Kv7QKLxL49rT5XZwbhovTxutKOkZ3kve/WTlXkWNpZpHAMGBaGdZV2RTnz2RL4BIzW25ma83stjKrrnIpzli+CLQG9gDrgQedc7llU16VUmV/31Qv7wIqEzNbDPyogFWPlXA/dck7O/BL59zRYNRWyVkBy86+rbw4bbyu2GNkZn3IC309SrWiyqs4Y/kc8LBzLifvxIoUoDjjWB2IA64GwoB/mdmnzrmtpV1cJVOcsewHpAJ9gSuAj8zsY/2eKbEq+/tGoa8EnHPXFLbOzPaZWWPn3F7/aeACL1GYWSh5gW+Wc+6dUiq1stkFXHbafFPy/qda0jZeV6wxMrMOwCvAAOfcwTKqrbIpzljGA2/5A18EcJ2Z+Zxz75VJhZVDcf9uf++cOwYcM7OVQAx533mW/yjOWN4OJLm8L6ZtN7OvgVbAv8umxCqjyv6+0eXd4JkPjPZPjwbmnd3A/z2LV4FNzrk/lWFtFd0aoIWZRZlZDeBG8sbzdPOB2/x3VXUFjpy6nC75ihxHM7sceAe4VWdSzqvIsXTORTnnmjnnmgFzgPsU+M5RnL/b84AEM6tuZrWBLuR931nOVJyx/Ia8M6aYWSMgGviqTKusGqrs7xud6QueJOAfZnYneX/xRgCYWRPgFefcdUB34FZgvZml+rd71Dm3sBzqrTCccz4zGwcsIu8OtdeccxvN7B7/+mnk3R15HbAdOE7e/2jlNMUcx0nApcBL/jNUPleFXy5+oYo5llKE4oyjc26TmX0IfAHkkvfvZYGP0vCyYv6ZfBKYYWbrybtE+bBz7vtyK7qCMrO/A72BCDPbBfw3EApV//eN3sghIiIi4gG6vCsiIiLiAQp9IiIiIh6g0CciIiLiAQp9IiIiIh6g0CciIiLiAQp9IiIiIh6g0CciIiLiAQp9IiIiIh7w/2WHUsTlOkzJAAAAAElFTkSuQmCC\n",
      "text/plain": [
       "<Figure size 720x360 with 1 Axes>"
      ]
     },
     "metadata": {
      "needs_background": "light"
     },
     "output_type": "display_data"
    }
   ],
   "source": [
    "words = ['tonnes', 'grain', 'wheat',  'agriculture', 'corn', 'maize', 'export', 'department', 'barley', 'grains', 'soybeans', 'sorghum']\n",
    "plot_embeddings(M_reduced_normalized, word2ind, words)"
   ]
  },
  {
   "cell_type": "markdown",
   "metadata": {},
   "source": [
    "#### <font color=\"red\">Write your answer here.</font>"
   ]
  },
  {
   "cell_type": "markdown",
   "metadata": {},
   "source": [
    "### Cosine Similarity\n",
    "Now that we have word vectors, we need a way to quantify the similarity between individual words, according to these vectors. One such metric is cosine-similarity. We will be using this to find words that are \"close\" and \"far\" from one another.\n",
    "\n",
    "We can think of n-dimensional vectors as points in n-dimensional space. If we take this perspective [L1](http://mathworld.wolfram.com/L1-Norm.html) and [L2](http://mathworld.wolfram.com/L2-Norm.html) Distances help quantify the amount of space \"we must travel\" to get between these two points. Another approach is to examine the angle between two vectors. From trigonometry we know that:\n",
    "\n",
    "<img src=\"imgs/inner_product.png\" width=20% style=\"float: center;\"></img>\n",
    "\n",
    "Instead of computing the actual angle, we can leave the similarity in terms of $similarity = cos(\\Theta)$. Formally the [Cosine Similarity](https://en.wikipedia.org/wiki/Cosine_similarity) $s$ between two vectors $p$ and $q$ is defined as:\n",
    "\n",
    "$$s = \\frac{p \\cdot q}{||p|| ||q||}, \\textrm{ where } s \\in [-1, 1] $$ "
   ]
  },
  {
   "cell_type": "markdown",
   "metadata": {},
   "source": [
    "### Question 2.2: Words with Multiple Meanings (1.5 points) [code + written] \n",
    "Polysemes and homonyms are words that have more than one meaning (see this [wiki page](https://en.wikipedia.org/wiki/Polysemy) to learn more about the difference between polysemes and homonyms ). Find a word with *at least two different meanings* such that the top-10 most similar words (according to cosine similarity) contain related words from *both* meanings. For example, \"leaves\" has both \"go_away\" and \"a_structure_of_a_plant\" meaning in the top 10, and \"scoop\" has both \"handed_waffle_cone\" and \"lowdown\". You will probably need to try several polysemous or homonymic words before you find one. \n",
    "\n",
    "Please state the word you discover and the multiple meanings that occur in the top 10. Why do you think many of the polysemous or homonymic words you tried didn't work (i.e. the top-10 most similar words only contain **one** of the meanings of the words)?\n",
    "\n",
    "**Note**: You should use the `wv_from_bin.most_similar(word)` function to get the top 10 similar words. This function ranks all other words in the vocabulary with respect to their cosine similarity to the given word. For further assistance, please check the __[GenSim documentation](https://radimrehurek.com/gensim/models/keyedvectors.html#gensim.models.keyedvectors.FastTextKeyedVectors.most_similar)__."
   ]
  },
  {
   "cell_type": "code",
   "execution_count": 59,
   "metadata": {},
   "outputs": [
    {
     "data": {
      "text/plain": [
       "[('sorry', 0.6639703512191772),\n",
       " ('tragic', 0.6637738347053528),\n",
       " ('terribly', 0.6157293915748596),\n",
       " ('pathetic', 0.6075087189674377),\n",
       " ('awful', 0.6014870405197144),\n",
       " ('horrible', 0.5975170731544495),\n",
       " ('happy', 0.5959863066673279),\n",
       " ('unfortunate', 0.5858637690544128),\n",
       " ('poignant', 0.5823752284049988),\n",
       " ('terrible', 0.5786450505256653)]"
      ]
     },
     "execution_count": 59,
     "metadata": {},
     "output_type": "execute_result"
    }
   ],
   "source": [
    "# ------------------\n",
    "# Write your implementation here.\n",
    "\n",
    "wv_from_bin.most_similar(\"sad\")\n",
    "\n",
    "\n",
    "# ------------------"
   ]
  },
  {
   "cell_type": "markdown",
   "metadata": {},
   "source": [
    "#### <font color=\"red\">Write your answer here.</font>"
   ]
  },
  {
   "cell_type": "markdown",
   "metadata": {},
   "source": [
    "### Question 2.3: Synonyms & Antonyms (2 points) [code + written] \n",
    "\n",
    "When considering Cosine Similarity, it's often more convenient to think of Cosine Distance, which is simply 1 - Cosine Similarity.\n",
    "\n",
    "Find three words $(w_1,w_2,w_3)$ where $w_1$ and $w_2$ are synonyms and $w_1$ and $w_3$ are antonyms, but Cosine Distance $(w_1,w_3) <$ Cosine Distance $(w_1,w_2)$. \n",
    "\n",
    "As an example, $w_1$=\"happy\" is closer to $w_3$=\"sad\" than to $w_2$=\"cheerful\". Please find a different example that satisfies the above. Once you have found your example, please give a possible explanation for why this counter-intuitive result may have happened.\n",
    "\n",
    "You should use the the `wv_from_bin.distance(w1, w2)` function here in order to compute the cosine distance between two words. Please see the __[GenSim documentation](https://radimrehurek.com/gensim/models/keyedvectors.html#gensim.models.keyedvectors.FastTextKeyedVectors.distance)__ for further assistance."
   ]
  },
  {
   "cell_type": "code",
   "execution_count": 61,
   "metadata": {},
   "outputs": [
    {
     "name": "stdout",
     "output_type": "stream",
     "text": [
      "Synonyms happy, glad have cosine distance: 0.25721919536590576\n",
      "Antonyms happy, sad have cosine distance: 0.40401363372802734\n"
     ]
    }
   ],
   "source": [
    "# ------------------\n",
    "# Write your implementation here.\n",
    "\n",
    "w1 = \"happy\"\n",
    "w2 = \"glad\"\n",
    "w3 = \"sad\"\n",
    "w1_w2_dist = wv_from_bin.distance(w1, w2)\n",
    "w1_w3_dist = wv_from_bin.distance(w1, w3)\n",
    "\n",
    "print(\"Synonyms {}, {} have cosine distance: {}\".format(w1, w2, w1_w2_dist))\n",
    "print(\"Antonyms {}, {} have cosine distance: {}\".format(w1, w3, w1_w3_dist))\n",
    "\n",
    "# ------------------"
   ]
  },
  {
   "cell_type": "markdown",
   "metadata": {},
   "source": [
    "#### <font color=\"red\">Write your answer here.</font>"
   ]
  },
  {
   "cell_type": "markdown",
   "metadata": {},
   "source": [
    "### Question 2.4: Analogies with Word Vectors [written] (1.5 points)\n",
    "Word vectors have been shown to *sometimes* exhibit the ability to solve analogies. \n",
    "\n",
    "As an example, for the analogy \"man : grandfather :: woman : x\" (read: man is to grandfather as woman is to x), what is x?\n",
    "\n",
    "In the cell below, we show you how to use word vectors to find x using the `most_similar` function from the __[GenSim documentation](https://radimrehurek.com/gensim/models/keyedvectors.html#gensim.models.keyedvectors.KeyedVectors.most_similar)__. The function finds words that are most similar to the words in the `positive` list and most dissimilar from the words in the `negative` list (while omitting the input words, which are often the most similar; see [this paper](https://www.aclweb.org/anthology/N18-2039.pdf)). The answer to the analogy will have the highest cosine similarity (largest returned numerical value)."
   ]
  },
  {
   "cell_type": "code",
   "execution_count": 64,
   "metadata": {},
   "outputs": [
    {
     "name": "stdout",
     "output_type": "stream",
     "text": [
      "[('grandmother', 0.7608445286750793),\n",
      " ('granddaughter', 0.7200808525085449),\n",
      " ('daughter', 0.7168302536010742),\n",
      " ('mother', 0.7151536345481873),\n",
      " ('niece', 0.7005682587623596),\n",
      " ('father', 0.6659888029098511),\n",
      " ('aunt', 0.6623408794403076),\n",
      " ('grandson', 0.6618767380714417),\n",
      " ('grandparents', 0.6446609497070312),\n",
      " ('wife', 0.6445354223251343)]\n"
     ]
    }
   ],
   "source": [
    "# Run this cell to answer the analogy -- man : grandfather :: woman : x\n",
    "pprint.pprint(wv_from_bin.most_similar(positive=['woman', 'grandfather'], negative=['man']))"
   ]
  },
  {
   "cell_type": "markdown",
   "metadata": {},
   "source": [
    "Let $m$, $g$, $w$, and $x$ denote the word vectors for `man`, `grandfather`, `woman`, and the answer, respectively. Using **only** vectors $m$, $g$, $w$, and the vector arithmetic operators $+$ and $-$ in your answer, what is the expression in which we are maximizing cosine similarity with $x$?\n",
    "\n",
    "Hint: Recall that word vectors are simply multi-dimensional vectors that represent a word. It might help to draw out a 2D example using arbitrary locations of each vector. Where would `man` and `woman` lie in the coordinate plane relative to `grandfather` and the answer?"
   ]
  },
  {
   "cell_type": "markdown",
   "metadata": {},
   "source": [
    "#### <font color=\"red\">Write your answer here.</font>"
   ]
  },
  {
   "cell_type": "markdown",
   "metadata": {},
   "source": [
    "### Question 2.5: Finding Analogies [code + written]  (1.5 points)\n",
    "Find an example of analogy that holds according to these vectors (i.e. the intended word is ranked top). In your solution please state the full analogy in the form x:y :: a:b. If you believe the analogy is complicated, explain why the analogy holds in one or two sentences.\n",
    "\n",
    "**Note**: You may have to try many analogies to find one that works!"
   ]
  },
  {
   "cell_type": "code",
   "execution_count": 65,
   "metadata": {},
   "outputs": [
    {
     "name": "stdout",
     "output_type": "stream",
     "text": [
      "[('cream', 0.5595227479934692),\n",
      " ('chocolate', 0.49496594071388245),\n",
      " ('melting', 0.4932914972305298),\n",
      " ('melt', 0.4821588695049286),\n",
      " ('cold', 0.46975958347320557),\n",
      " ('cool', 0.4660262167453766),\n",
      " ('frozen', 0.455668181180954),\n",
      " ('hottest', 0.44229835271835327),\n",
      " ('warm', 0.4410596787929535),\n",
      " ('topping', 0.4408915340900421)]\n"
     ]
    }
   ],
   "source": [
    "# ------------------\n",
    "# Write your implementation here.\n",
    "\n",
    "pprint.pprint(wv_from_bin.most_similar(positive=[\"ice\", \"hot\"], negative=[\"fire\"]))\n",
    "\n",
    "\n",
    "# ------------------"
   ]
  },
  {
   "cell_type": "markdown",
   "metadata": {},
   "source": [
    "#### <font color=\"red\">Write your answer here.</font>"
   ]
  },
  {
   "cell_type": "markdown",
   "metadata": {},
   "source": [
    "### Question 2.6: Incorrect Analogy [code + written] (1.5 points)\n",
    "Find an example of analogy that does *not* hold according to these vectors. In your solution, state the intended analogy in the form x:y :: a:b, and state the (incorrect) value of b according to the word vectors."
   ]
  },
  {
   "cell_type": "code",
   "execution_count": 66,
   "metadata": {},
   "outputs": [
    {
     "name": "stdout",
     "output_type": "stream",
     "text": [
      "[('bosses', 0.5846002697944641),\n",
      " ('girlfriend', 0.5496258735656738),\n",
      " ('wife', 0.48936718702316284),\n",
      " ('mistress', 0.47348836064338684),\n",
      " ('boyfriend', 0.4683174192905426),\n",
      " ('tells', 0.46039482951164246),\n",
      " ('mother', 0.4581165313720703),\n",
      " ('daughter', 0.45619288086891174),\n",
      " ('lover', 0.4546445608139038),\n",
      " ('husband', 0.44650691747665405)]\n",
      "\n",
      "[('bosses', 0.5625280737876892),\n",
      " ('manager', 0.5502104163169861),\n",
      " ('ferguson', 0.49866557121276855),\n",
      " ('arsene', 0.4745480418205261),\n",
      " ('gambino', 0.45808717608451843),\n",
      " ('wenger', 0.45207351446151733),\n",
      " ('mourinho', 0.4470241069793701),\n",
      " ('tottenham', 0.4417468011379242),\n",
      " ('chelsea', 0.43944650888442993),\n",
      " ('mafia', 0.43868187069892883)]\n"
     ]
    }
   ],
   "source": [
    "# ------------------\n",
    "# Write your implementation here.\n",
    "\n",
    "pprint.pprint(wv_from_bin.most_similar(positive=['woman', 'boss'], negative=['man']))\n",
    "print()\n",
    "pprint.pprint(wv_from_bin.most_similar(positive=['man', 'boss'], negative=['woman']))\n",
    "\n",
    "\n",
    "# ------------------"
   ]
  },
  {
   "cell_type": "markdown",
   "metadata": {},
   "source": [
    "#### <font color=\"red\">Write your answer here.</font>"
   ]
  },
  {
   "cell_type": "markdown",
   "metadata": {},
   "source": [
    "### Question 2.7: Guided Analysis of Bias in Word Vectors [written] (1 point)\n",
    "\n",
    "It's important to be cognizant of the biases (gender, race, sexual orientation etc.) implicit in our word embeddings. Bias can be dangerous because it can reinforce stereotypes through applications that employ these models.\n",
    "\n",
    "Run the cell below, to examine (a) which terms are most similar to \"girl\" and \"toy\" and most dissimilar to \"boy\", and (b) which terms are most similar to \"boy\" and \"toy\" and most dissimilar to \"girl\". Point out the difference between the list of female-associated words and the list of male-associated words, and explain how it is reflecting gender bias."
   ]
  },
  {
   "cell_type": "code",
   "execution_count": 67,
   "metadata": {},
   "outputs": [
    {
     "name": "stdout",
     "output_type": "stream",
     "text": [
      "[('toys', 0.7094953060150146),\n",
      " ('doll', 0.5932914614677429),\n",
      " ('dolls', 0.570662260055542),\n",
      " ('barbie', 0.5407706499099731),\n",
      " ('mattel', 0.532855212688446),\n",
      " ('accessories', 0.5206909775733948),\n",
      " ('hasbro', 0.49227219820022583),\n",
      " ('jewelry', 0.47385695576667786),\n",
      " ('lego', 0.46908140182495117),\n",
      " ('apparel', 0.4613623321056366)]\n",
      "\n",
      "[('toys', 0.7157087922096252),\n",
      " ('hasbro', 0.5164632797241211),\n",
      " ('robot', 0.4731711149215698),\n",
      " ('pet', 0.4670490026473999),\n",
      " ('manufacturer', 0.46681639552116394),\n",
      " ('mattel', 0.4582391679286957),\n",
      " ('lego', 0.45811763405799866),\n",
      " ('miniature', 0.4441472887992859),\n",
      " ('makers', 0.44298243522644043),\n",
      " ('manufactured', 0.44275349378585815)]\n"
     ]
    }
   ],
   "source": [
    "# Run this cell\n",
    "# Here `positive` indicates the list of words to be similar to and `negative` indicates the list of words to be\n",
    "# most dissimilar from.\n",
    "pprint.pprint(wv_from_bin.most_similar(positive=['girl', 'toy'], negative=['boy']))\n",
    "print()\n",
    "pprint.pprint(wv_from_bin.most_similar(positive=['boy', 'toy'], negative=['girl']))"
   ]
  },
  {
   "cell_type": "markdown",
   "metadata": {},
   "source": [
    "#### <font color=\"red\">Write your answer here.</font>"
   ]
  },
  {
   "cell_type": "markdown",
   "metadata": {},
   "source": [
    "### Question 2.8: Independent Analysis of Bias in Word Vectors [code + written]  (1 point)\n",
    "\n",
    "Use the `most_similar` function to find another case where some bias is exhibited by the vectors. Please briefly explain the example of bias that you discover."
   ]
  },
  {
   "cell_type": "code",
   "execution_count": 69,
   "metadata": {},
   "outputs": [
    {
     "name": "stdout",
     "output_type": "stream",
     "text": [
      "[('lovely', 0.5460251569747925),\n",
      " ('pretty', 0.5429681539535522),\n",
      " ('good', 0.5236583948135376),\n",
      " ('happy', 0.5121265649795532),\n",
      " ('wonderful', 0.5070162415504456),\n",
      " ('things', 0.5063822269439697),\n",
      " ('something', 0.5048630833625793),\n",
      " ('neat', 0.5023066997528076),\n",
      " ('really', 0.49766805768013),\n",
      " ('just', 0.49676457047462463)]\n",
      "\n"
     ]
    }
   ],
   "source": [
    "# ------------------\n",
    "# Write your implementation here.\n",
    "\n",
    "pprint.pprint(wv_from_bin.most_similar(positive=[\"white\", \"nice\"], negative=[\"black\"]))\n",
    "print()\n",
    "\n",
    "# ------------------"
   ]
  },
  {
   "cell_type": "markdown",
   "metadata": {},
   "source": [
    "#### <font color=\"red\">Write your answer here.</font>"
   ]
  },
  {
   "cell_type": "markdown",
   "metadata": {},
   "source": [
    "### Question 2.9: Thinking About Bias [written] (2 points)\n",
    "\n",
    "Give one explanation of how bias gets into the word vectors. What is an experiment that you could do to test for or to measure this source of bias?"
   ]
  },
  {
   "cell_type": "markdown",
   "metadata": {},
   "source": [
    "#### <font color=\"red\">Write your answer here.</font>"
   ]
  },
  {
   "cell_type": "markdown",
   "metadata": {},
   "source": [
    "# <font color=\"blue\"> Submission Instructions</font>\n",
    "\n",
    "1. Click the Save button at the top of the Jupyter Notebook.\n",
    "2. Select Cell -> All Output -> Clear. This will clear all the outputs from all cells (but will keep the content of all cells). \n",
    "2. Select Cell -> Run All. This will run all the cells in order, and will take several minutes.\n",
    "3. Once you've rerun everything, select File -> Download as -> PDF via LaTeX (If you have trouble using \"PDF via LaTex\", you can also save the webpage as pdf. <font color='blue'> Make sure all your solutions especially the coding parts are displayed in the pdf</font>, it's okay if the provided codes get cut off because lines are not wrapped in code cells).\n",
    "4. Look at the PDF file and make sure all your solutions are there, displayed correctly. The PDF is the only thing your graders will see!\n",
    "5. Submit your PDF on Gradescope."
   ]
  }
 ],
 "metadata": {
  "anaconda-cloud": {},
  "kernelspec": {
   "display_name": "Python 3 (ipykernel)",
   "language": "python",
   "name": "python3"
  },
  "language_info": {
   "codemirror_mode": {
    "name": "ipython",
    "version": 3
   },
   "file_extension": ".py",
   "mimetype": "text/x-python",
   "name": "python",
   "nbconvert_exporter": "python",
   "pygments_lexer": "ipython3",
   "version": "3.7.11"
  }
 },
 "nbformat": 4,
 "nbformat_minor": 2
}